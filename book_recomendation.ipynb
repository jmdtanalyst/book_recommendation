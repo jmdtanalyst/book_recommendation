{
 "cells": [
  {
   "cell_type": "markdown",
   "metadata": {},
   "source": [
    "\n",
    "# Book Recommendation System\n",
    "\n",
    "This project will build a model that takes a book title as input and returns a list of 10 similar books.\n",
    "\n",
    "\n",
    "## Content-based recommendations - Book recommendation system.\n",
    "\n",
    "Machine learning can be used to build recommendation systems that recommend products such as books and movies based on other products that you like. \n",
    "Content-based recommendation systems frequently use a technique called [cosine similarity](https://en.wikipedia.org/wiki/Cosine_similarity) to quantify similarity between products. \n",
    "Scikit-learn provides tools such as the [cosine_similarity](https://scikit-learn.org/stable/modules/generated/sklearn.metrics.pairwise.cosine_similarity.html) function to aid in building such models. \n",
    "\n",
    "\n",
    "\n",
    "## Load and prepare the data\n",
    "\n",
    "Start by loading a database of 100 books  that includes information such 'url','title', 'author','rating','genre','description', as well as keywords describing the movie. \n",
    "\n",
    "Then use Scikit's [CountVectorizer](https://scikit-learn.org/stable/modules/generated/sklearn.feature_extraction.text.CountVectorizer.html) class to tokenize and vectorize the information, and Scikit's [cosine_similarity](https://scikit-learn.org/stable/modules/generated/sklearn.metrics.pairwise.cosine_similarity.html) function to generate a similarity matrix.\n",
    "\n"
   ]
  },
  {
   "cell_type": "markdown",
   "metadata": {},
   "source": [
    "### Install Libraries"
   ]
  },
  {
   "cell_type": "code",
   "execution_count": 10,
   "metadata": {},
   "outputs": [],
   "source": [
    "#! pip install beautifulsoup4 \n",
    "#! pip install requests\n",
    "#! pip install pandas\n",
    "#! pip install dash  plotly\n",
    "#!pip install  matplotlib#\n",
    "#! pip install -U scikit-learn\n",
    "#!pip install dash_bootstrap_components\n",
    "#!pip install nbformat plotly\n",
    "\n"
   ]
  },
  {
   "cell_type": "code",
   "execution_count": 2,
   "metadata": {},
   "outputs": [],
   "source": [
    "from bs4 import BeautifulSoup\n",
    "import requests\n",
    "from requests import get\n",
    "import pandas as pd\n",
    "import matplotlib.pyplot as plt\n",
    "import numpy as np\n",
    "\n",
    "\n",
    "\n",
    "# Set the maximum column width\n",
    "pd.set_option('display.max_colwidth', 30)"
   ]
  },
  {
   "cell_type": "markdown",
   "metadata": {},
   "source": [
    "## Data Collection  (Web scraping )\n",
    "\n",
    "Web scraping for this project was done using Beautiful Soup via Python on Jupyter Notebooks. \n",
    "\n",
    "For this project, the url: \"https://www.goodreads.com/list/show/1.Best_Books_Ever\", which contains the 100 best books ever."
   ]
  },
  {
   "cell_type": "code",
   "execution_count": 14,
   "metadata": {},
   "outputs": [
    {
     "name": "stdout",
     "output_type": "stream",
     "text": [
      "Request successful\n"
     ]
    }
   ],
   "source": [
    "import requests\n",
    "\n",
    "# Set the URL of the page to scrape\n",
    "url = \"https://www.goodreads.com/list/show/1.Best_Books_Ever\"\n",
    "\n",
    "# headers\n",
    "headers = {\n",
    "    'User-Agent': 'Mozilla/5.0 (Windows NT 10.0; Win64; x64) AppleWebKit/537.36 (KHTML, like Gecko) Chrome/119.0.0.0 Safari/537.36',\n",
    "    'Accept-Language': 'en-US,en;q=0.5',\n",
    "    'Referer': 'https://www.google.com',\n",
    "    'Accept': 'text/html,application/xhtml+xml,application/xml;q=0.9,image/webp,*/*;q=0.8'\n",
    "}\n",
    "\n",
    "# Use a session\n",
    "session = requests.Session()\n",
    "\n",
    "# Send a GET request to the URL and get the HTML content\n",
    "response = session.get(url, headers=headers)\n",
    "\n",
    "# Check the response status\n",
    "if response.status_code == 200:\n",
    "    print(\"Request successful\")\n",
    "    html_content = response.text\n",
    "else:\n",
    "    print(f\"Request failed with status code: {response.status_code}\")\n"
   ]
  },
  {
   "cell_type": "code",
   "execution_count": 16,
   "metadata": {},
   "outputs": [
    {
     "name": "stdout",
     "output_type": "stream",
     "text": [
      "size:  100 links\n"
     ]
    },
    {
     "data": {
      "text/plain": [
       "['https://www.goodreads.com//book/show/2767052-the-hunger-games',\n",
       " 'https://www.goodreads.com//book/show/2.Harry_Potter_and_the_Order_of_the_Phoenix']"
      ]
     },
     "execution_count": 16,
     "metadata": {},
     "output_type": "execute_result"
    }
   ],
   "source": [
    "# Create a BeautifulSoup object with the HTML content\n",
    "soup = BeautifulSoup(response.content, 'html.parser')\n",
    "\n",
    "# extracting linksfrom the page:\n",
    "links = soup.find_all(\"a\",attrs={'class': \"bookTitle\"})\n",
    "\n",
    "\n",
    "link_list = []\n",
    "for link in links:\n",
    "    link_list.append('https://www.goodreads.com/'+link.get('href'))\n",
    "\n",
    "print(\"size: \",len(link_list),\"links\")\n",
    "link_list[0:2]"
   ]
  },
  {
   "cell_type": "code",
   "execution_count": 17,
   "metadata": {},
   "outputs": [],
   "source": [
    "# Create function to connect tho the given link and get the values: title, author, rating, genre,description\n",
    "def getbooks(link):\n",
    "    url = link\n",
    "    # headers\n",
    "    headers = ({'User-Agent':'Mozilla/5.0 (Windows NT 10.0; Win64; x64) AppleWebKit/537.36 (KHTML, like Gecko) Chrome/119.0.0.0 Safari/537.36','Acept-Languages':'en-USm en;q=0.5'})\n",
    "\n",
    "    # Send a GET request to the URL and get the HTML content\n",
    "    response = requests.get(url,headers)\n",
    "\n",
    "    soup = BeautifulSoup(response.content, 'html.parser')\n",
    "    \n",
    "    \n",
    "    #Find the elements by tags\n",
    "    title = soup.find('h1', attrs={'class':'Text Text__title1'}).text.strip()\n",
    "    author = soup.find('a', attrs={'class':'ContributorLink'}).text.strip()\n",
    "    rating = soup.find('div', attrs={'class':'RatingStatistics__rating'}).text.strip()\n",
    "    genre = soup.find('span', attrs={'class':'BookPageMetadataSection__genreButton'}).text.strip()\n",
    "    description = soup.find('div', attrs={'class':'TruncatedContent__text'}).text.strip()\n",
    "    \n",
    "    result = [link,title,author,rating,genre,description]\n",
    "    #result = {'link':link,'title':title,'author':author,'rating':rating,'genre':genre,'description':description}\n",
    "\n",
    "    return result\n",
    "\n"
   ]
  },
  {
   "cell_type": "code",
   "execution_count": 18,
   "metadata": {},
   "outputs": [
    {
     "name": "stdout",
     "output_type": "stream",
     "text": [
      "Scraping link:  https://www.goodreads.com//book/show/2767052-the-hunger-games\n",
      "Scraping link:  https://www.goodreads.com//book/show/2.Harry_Potter_and_the_Order_of_the_Phoenix\n",
      "Scraping link:  https://www.goodreads.com//book/show/1885.Pride_and_Prejudice\n",
      "Scraping link:  https://www.goodreads.com//book/show/2657.To_Kill_a_Mockingbird\n",
      "Scraping link:  https://www.goodreads.com//book/show/19063.The_Book_Thief\n",
      "Scraping link:  https://www.goodreads.com//book/show/41865.Twilight\n",
      "Scraping link:  https://www.goodreads.com//book/show/170448.Animal_Farm\n",
      "Scraping link:  https://www.goodreads.com//book/show/30.J_R_R_Tolkien_4_Book_Boxed_Set\n",
      "Scraping link:  https://www.goodreads.com//book/show/11127.The_Chronicles_of_Narnia\n",
      "Scraping link:  https://www.goodreads.com//book/show/11870085-the-fault-in-our-stars\n",
      "Scraping link:  https://www.goodreads.com//book/show/5297.The_Picture_of_Dorian_Gray\n",
      "Scraping link:  https://www.goodreads.com//book/show/370493.The_Giving_Tree\n",
      "Scraping link:  https://www.goodreads.com//book/show/6185.Wuthering_Heights\n",
      "Scraping link:  https://www.goodreads.com//book/show/18405.Gone_with_the_Wind\n",
      "Scraping link:  https://www.goodreads.com//book/show/22628.The_Perks_of_Being_a_Wallflower\n",
      "Scraping link:  https://www.goodreads.com//book/show/28187.The_Lightning_Thief\n",
      "Scraping link:  https://www.goodreads.com//book/show/10210.Jane_Eyre\n",
      "Scraping link:  https://www.goodreads.com//book/show/157993.The_Little_Prince\n",
      "Scraping link:  https://www.goodreads.com//book/show/4671.The_Great_Gatsby\n",
      "Scraping link:  https://www.goodreads.com//book/show/968.The_Da_Vinci_Code\n",
      "Scraping link:  https://www.goodreads.com//book/show/24213.Alice_s_Adventures_in_Wonderland_Through_the_Looking_Glass\n",
      "Scraping link:  https://www.goodreads.com//book/show/7144.Crime_and_Punishment\n",
      "Scraping link:  https://www.goodreads.com//book/show/13335037-divergent\n",
      "Scraping link:  https://www.goodreads.com//book/show/929.Memoirs_of_a_Geisha\n",
      "Scraping link:  https://www.goodreads.com//book/show/24280.Les_Mis_rables\n",
      "Scraping link:  https://www.goodreads.com//book/show/865.The_Alchemist\n",
      "Scraping link:  https://www.goodreads.com//book/show/7624.Lord_of_the_Flies\n",
      "Scraping link:  https://www.goodreads.com//book/show/8127.Anne_of_Green_Gables\n",
      "Scraping link:  https://www.goodreads.com//book/show/18135.Romeo_and_Juliet\n",
      "Scraping link:  https://www.goodreads.com//book/show/256683.City_of_Bones\n",
      "Scraping link:  https://www.goodreads.com//book/show/11.The_Hitchhiker_s_Guide_to_the_Galaxy\n",
      "Scraping link:  https://www.goodreads.com//book/show/4667024-the-help\n",
      "Scraping link:  https://www.goodreads.com//book/show/17245.Dracula\n",
      "Scraping link:  https://www.goodreads.com//book/show/375802.Ender_s_Game\n",
      "Scraping link:  https://www.goodreads.com//book/show/24178.Charlotte_s_Web\n",
      "Scraping link:  https://www.goodreads.com//book/show/890.Of_Mice_and_Men\n",
      "Scraping link:  https://www.goodreads.com//book/show/13079982-fahrenheit-451\n",
      "Scraping link:  https://www.goodreads.com//book/show/5107.The_Catcher_in_the_Rye\n",
      "Scraping link:  https://www.goodreads.com//book/show/5129.Brave_New_World\n",
      "Scraping link:  https://www.goodreads.com//book/show/320.One_Hundred_Years_of_Solitude\n",
      "Scraping link:  https://www.goodreads.com//book/show/128029.A_Thousand_Splendid_Suns\n",
      "Scraping link:  https://www.goodreads.com//book/show/18619684-the-time-traveler-s-wife\n",
      "Scraping link:  https://www.goodreads.com//book/show/21787.The_Princess_Bride\n",
      "Scraping link:  https://www.goodreads.com//book/show/2998.The_Secret_Garden\n",
      "Scraping link:  https://www.goodreads.com//book/show/13496.A_Game_of_Thrones\n",
      "Scraping link:  https://www.goodreads.com//book/show/231804.The_Outsiders\n",
      "Scraping link:  https://www.goodreads.com//book/show/1934.Little_Women\n",
      "Scraping link:  https://www.goodreads.com//book/show/40961427-1984\n",
      "Scraping link:  https://www.goodreads.com//book/show/33574273-a-wrinkle-in-time\n",
      "Scraping link:  https://www.goodreads.com//book/show/1381.The_Odyssey\n",
      "Scraping link:  https://www.goodreads.com//book/show/136251.Harry_Potter_and_the_Deathly_Hallows\n",
      "Scraping link:  https://www.goodreads.com//book/show/35031085-frankenstein\n",
      "Scraping link:  https://www.goodreads.com//book/show/77203.The_Kite_Runner\n",
      "Scraping link:  https://www.goodreads.com//book/show/42844155-harry-potter-and-the-sorcerer-s-stone\n",
      "Scraping link:  https://www.goodreads.com//book/show/3636.The_Giver\n",
      "Scraping link:  https://www.goodreads.com//book/show/38447.The_Handmaid_s_Tale\n",
      "Scraping link:  https://www.goodreads.com//book/show/19543.Where_the_Wild_Things_Are\n",
      "Scraping link:  https://www.goodreads.com//book/show/12232938-the-lovely-bones\n",
      "Scraping link:  https://www.goodreads.com//book/show/2956.The_Adventures_of_Huckleberry_Finn\n",
      "Scraping link:  https://www.goodreads.com//book/show/23772.Green_Eggs_and_Ham\n",
      "Scraping link:  https://www.goodreads.com//book/show/4214.Life_of_Pi\n",
      "Scraping link:  https://www.goodreads.com//book/show/1953.A_Tale_of_Two_Cities\n",
      "Scraping link:  https://www.goodreads.com//book/show/7604.Lolita\n",
      "Scraping link:  https://www.goodreads.com//book/show/44767458-dune\n",
      "Scraping link:  https://www.goodreads.com//book/show/5.Harry_Potter_and_the_Prisoner_of_Azkaban\n",
      "Scraping link:  https://www.goodreads.com//book/show/4981.Slaughterhouse_Five\n",
      "Scraping link:  https://www.goodreads.com//book/show/43641.Water_for_Elephants\n",
      "Scraping link:  https://www.goodreads.com//book/show/6514.The_Bell_Jar\n",
      "Scraping link:  https://www.goodreads.com//book/show/39988.Matilda\n",
      "Scraping link:  https://www.goodreads.com//book/show/149267.The_Stand\n",
      "Scraping link:  https://www.goodreads.com//book/show/168668.Catch_22\n",
      "Scraping link:  https://www.goodreads.com//book/show/3590.The_Adventures_of_Sherlock_Holmes\n",
      "Scraping link:  https://www.goodreads.com//book/show/5043.The_Pillars_of_the_Earth\n",
      "Scraping link:  https://www.goodreads.com//book/show/76620.Watership_Down\n",
      "Scraping link:  https://www.goodreads.com//book/show/17899948-rebecca\n",
      "Scraping link:  https://www.goodreads.com//book/show/61215351-the-fellowship-of-the-ring\n",
      "Scraping link:  https://www.goodreads.com//book/show/2623.Great_Expectations\n",
      "Scraping link:  https://www.goodreads.com//book/show/10964.Outlander\n",
      "Scraping link:  https://www.goodreads.com//book/show/2429135.The_Girl_with_the_Dragon_Tattoo\n",
      "Scraping link:  https://www.goodreads.com//book/show/52892857-the-color-purple\n",
      "Scraping link:  https://www.goodreads.com//book/show/332613.One_Flew_Over_the_Cuckoo_s_Nest\n",
      "Scraping link:  https://www.goodreads.com//book/show/15823480-anna-karenina\n",
      "Scraping link:  https://www.goodreads.com//book/show/10917.My_Sister_s_Keeper\n",
      "Scraping link:  https://www.goodreads.com//book/show/4934.The_Brothers_Karamazov\n",
      "Scraping link:  https://www.goodreads.com//book/show/14891.A_Tree_Grows_in_Brooklyn\n",
      "Scraping link:  https://www.goodreads.com//book/show/41817486-a-clockwork-orange\n",
      "Scraping link:  https://www.goodreads.com//book/show/6288.The_Road\n",
      "Scraping link:  https://www.goodreads.com//book/show/16299.And_Then_There_Were_None\n",
      "Scraping link:  https://www.goodreads.com//book/show/2654.To_Kill_a_Mockingbird\n",
      "Scraping link:  https://www.goodreads.com//book/show/119322.The_Golden_Compass\n",
      "Scraping link:  https://www.goodreads.com//book/show/830502.It\n",
      "Scraping link:  https://www.goodreads.com//book/show/345627.Vampire_Academy\n",
      "Scraping link:  https://www.goodreads.com//book/show/52036.Siddhartha\n",
      "Scraping link:  https://www.goodreads.com//book/show/11588.The_Shining\n",
      "Scraping link:  https://www.goodreads.com//book/show/252577.Angela_s_Ashes\n",
      "Scraping link:  https://www.goodreads.com//book/show/23919.The_Complete_Stories_and_Poems\n",
      "Scraping link:  https://www.goodreads.com//book/show/43763.Interview_with_the_Vampire\n",
      "Scraping link:  https://www.goodreads.com//book/show/3836.Don_Quixote\n",
      "Scraping link:  https://www.goodreads.com//book/show/2165.The_Old_Man_and_the_Sea\n",
      "Scraping link:  https://www.goodreads.com//book/show/7244.The_Poisonwood_Bible\n"
     ]
    }
   ],
   "source": [
    "books_df = pd.DataFrame(columns = ['url','title', 'author','rating','genre','description'])\n",
    "\n",
    "\n",
    "# Creating a form loop to run the function passing each link\n",
    "for link in link_list:\n",
    "    print(\"Scraping link: \", link)\n",
    "    book = getbooks(link)\n",
    "    books_df.loc[len(books_df)] = book\n",
    "    "
   ]
  },
  {
   "cell_type": "code",
   "execution_count": 32,
   "metadata": {},
   "outputs": [],
   "source": [
    "# Saving the dataframe in csv format\n",
    "books_df.to_csv('books_df.csv', index=False)"
   ]
  },
  {
   "cell_type": "markdown",
   "metadata": {},
   "source": [
    "# EDA and VISUALIZATION\n"
   ]
  },
  {
   "cell_type": "code",
   "execution_count": 59,
   "metadata": {},
   "outputs": [],
   "source": [
    "books_df = pd.read_csv('books_df.csv')"
   ]
  },
  {
   "cell_type": "code",
   "execution_count": 60,
   "metadata": {},
   "outputs": [
    {
     "name": "stdout",
     "output_type": "stream",
     "text": [
      "<class 'pandas.core.frame.DataFrame'>\n",
      "RangeIndex: 100 entries, 0 to 99\n",
      "Data columns (total 6 columns):\n",
      " #   Column       Non-Null Count  Dtype  \n",
      "---  ------       --------------  -----  \n",
      " 0   url          100 non-null    object \n",
      " 1   title        100 non-null    object \n",
      " 2   author       100 non-null    object \n",
      " 3   rating       100 non-null    float64\n",
      " 4   genre        100 non-null    object \n",
      " 5   description  100 non-null    object \n",
      "dtypes: float64(1), object(5)\n",
      "memory usage: 4.8+ KB\n"
     ]
    },
    {
     "data": {
      "text/plain": [
       "((100, 6), None)"
      ]
     },
     "execution_count": 60,
     "metadata": {},
     "output_type": "execute_result"
    }
   ],
   "source": [
    "books_df.shape, books_df.info()"
   ]
  },
  {
   "cell_type": "code",
   "execution_count": 61,
   "metadata": {},
   "outputs": [],
   "source": [
    "books_df['rating']=pd.to_numeric(books_df['rating'])"
   ]
  },
  {
   "cell_type": "code",
   "execution_count": 62,
   "metadata": {},
   "outputs": [
    {
     "data": {
      "text/plain": [
       "0     Could you survive on your ...\n",
       "1     Harry Potter is about to s...\n",
       "2     Since its immediate succes...\n",
       "3     The unforgettable novel of...\n",
       "4     Librarian's note: An alter...\n",
       "                  ...              \n",
       "95    This single volume brings ...\n",
       "96    This is the story of Louis...\n",
       "97    Don Quixote has become so ...\n",
       "98    Librarian's note: An alter...\n",
       "99    The Poisonwood Bible is a ...\n",
       "Name: description, Length: 100, dtype: object"
      ]
     },
     "execution_count": 62,
     "metadata": {},
     "output_type": "execute_result"
    }
   ],
   "source": [
    "books_df['description']"
   ]
  },
  {
   "cell_type": "markdown",
   "metadata": {},
   "source": [
    "# Average Rating by genre"
   ]
  },
  {
   "cell_type": "code",
   "execution_count": 63,
   "metadata": {},
   "outputs": [
    {
     "data": {
      "image/png": "[encoded data removed]",
      "text/plain": [
       "<Figure size 1000x600 with 1 Axes>"
      ]
     },
     "metadata": {},
     "output_type": "display_data"
    }
   ],
   "source": [
    "# Calculate the average rating by genre\n",
    "avg_rating_by_genre = books_df.groupby('genre')['rating'].mean().sort_values()\n",
    "\n",
    "# Plot the bar chart\n",
    "plt.figure(figsize=(10, 6))\n",
    "avg_rating_by_genre.plot(kind='bar', color='skyblue')\n",
    "plt.title('Average Rating by Genre')\n",
    "plt.xlabel('Genre')\n",
    "plt.ylabel('Average Rating')\n",
    "plt.xticks(rotation=45)\n",
    "plt.show()\n"
   ]
  },
  {
   "cell_type": "code",
   "execution_count": 53,
   "metadata": {},
   "outputs": [],
   "source": [
    "# Scatter Plot: Rating vs. Number of Books per Genre"
   ]
  },
  {
   "cell_type": "code",
   "execution_count": 57,
   "metadata": {},
   "outputs": [
    {
     "data": {
      "image/png": "[encoded data removed]",
      "text/plain": [
       "<Figure size 1000x600 with 1 Axes>"
      ]
     },
     "metadata": {},
     "output_type": "display_data"
    }
   ],
   "source": [
    "# Calculate the number of books per genre\n",
    "books_per_genre = books_df['genre'].value_counts()\n",
    "\n",
    "# Merge the average rating and number of books per genre\n",
    "genre_stats = pd.DataFrame({\n",
    "    'average_rating': books_df.groupby('genre')['rating'].mean(),\n",
    "    'num_books': books_per_genre\n",
    "}).reset_index()\n",
    "\n",
    "# Plot the scatter plot\n",
    "plt.figure(figsize=(10, 6))\n",
    "plt.scatter(genre_stats['num_books'], genre_stats['average_rating'], color='purple')\n",
    "plt.title('Rating vs. Number of Books per Genre')\n",
    "plt.xlabel('Number of Books')\n",
    "plt.ylabel('Average Rating')\n",
    "plt.grid(True)\n",
    "plt.show()\n"
   ]
  },
  {
   "cell_type": "code",
   "execution_count": null,
   "metadata": {},
   "outputs": [],
   "source": [
    "# Calculate the number of books per genre\n",
    "books_per_genre = books_df['genre'].value_counts()\n",
    "\n",
    "# Merge the average rating and number of books per genre\n",
    "genre_stats = pd.DataFrame({\n",
    "    'average_rating': books_df.groupby('genre')['rating'].mean(),\n",
    "    'num_books': books_per_genre\n",
    "}).reset_index()\n",
    "\n",
    "# Plot the scatter plot\n",
    "plt.figure(figsize=(10, 6))\n",
    "plt.scatter(genre_stats['num_books'], genre_stats['average_rating'], color='purple')\n",
    "plt.title('Rating vs. Number of Books per Genre')\n",
    "plt.xlabel('Number of Books')\n",
    "plt.ylabel('Average Rating')\n",
    "plt.grid(True)\n",
    "plt.show()\n"
   ]
  },
  {
   "cell_type": "markdown",
   "metadata": {},
   "source": [
    "## Histogram: Distribution of Book Ratings"
   ]
  },
  {
   "cell_type": "code",
   "execution_count": 59,
   "metadata": {},
   "outputs": [
    {
     "data": {
      "image/png": "[encoded data removed]",
      "text/plain": [
       "<Figure size 1000x600 with 1 Axes>"
      ]
     },
     "metadata": {},
     "output_type": "display_data"
    }
   ],
   "source": [
    "# Plot the histogram\n",
    "plt.figure(figsize=(10, 6))\n",
    "plt.hist(books_df['rating'], bins=20, color='green', edgecolor='black')\n",
    "plt.title('Distribution of Book Ratings')\n",
    "plt.xlabel('Rating')\n",
    "plt.ylabel('Frequency')\n",
    "plt.grid(True)\n",
    "plt.show()\n"
   ]
  },
  {
   "cell_type": "markdown",
   "metadata": {},
   "source": [
    "# Machine Learning"
   ]
  },
  {
   "cell_type": "markdown",
   "metadata": {},
   "source": [
    "Add a new column named \"features\" to the DataFrame that combines all of the words in the other columns."
   ]
  },
  {
   "cell_type": "markdown",
   "metadata": {},
   "source": [
    "Remove all of the columns except the ones that will be used to quantify similarities between movies."
   ]
  },
  {
   "cell_type": "code",
   "execution_count": 64,
   "metadata": {},
   "outputs": [
    {
     "data": {
      "text/html": [
       "<div>\n",
       "<style scoped>\n",
       "    .dataframe tbody tr th:only-of-type {\n",
       "        vertical-align: middle;\n",
       "    }\n",
       "\n",
       "    .dataframe tbody tr th {\n",
       "        vertical-align: top;\n",
       "    }\n",
       "\n",
       "    .dataframe thead th {\n",
       "        text-align: right;\n",
       "    }\n",
       "</style>\n",
       "<table border=\"1\" class=\"dataframe\">\n",
       "  <thead>\n",
       "    <tr style=\"text-align: right;\">\n",
       "      <th></th>\n",
       "      <th>url</th>\n",
       "      <th>title</th>\n",
       "      <th>author</th>\n",
       "      <th>rating</th>\n",
       "      <th>genre</th>\n",
       "      <th>description</th>\n",
       "      <th>features</th>\n",
       "    </tr>\n",
       "  </thead>\n",
       "  <tbody>\n",
       "    <tr>\n",
       "      <th>0</th>\n",
       "      <td>https://www.goodreads.com/...</td>\n",
       "      <td>The Hunger Games</td>\n",
       "      <td>Suzanne Collins</td>\n",
       "      <td>4.34</td>\n",
       "      <td>Young Adult</td>\n",
       "      <td>Could you survive on your ...</td>\n",
       "      <td>The Hunger Games Suzanne C...</td>\n",
       "    </tr>\n",
       "    <tr>\n",
       "      <th>1</th>\n",
       "      <td>https://www.goodreads.com/...</td>\n",
       "      <td>Harry Potter and the Order...</td>\n",
       "      <td>J.K. Rowling</td>\n",
       "      <td>4.50</td>\n",
       "      <td>Young Adult</td>\n",
       "      <td>Harry Potter is about to s...</td>\n",
       "      <td>Harry Potter and the Order...</td>\n",
       "    </tr>\n",
       "  </tbody>\n",
       "</table>\n",
       "</div>"
      ],
      "text/plain": [
       "                             url                          title  \\\n",
       "0  https://www.goodreads.com/...               The Hunger Games   \n",
       "1  https://www.goodreads.com/...  Harry Potter and the Order...   \n",
       "\n",
       "            author  rating        genre                    description  \\\n",
       "0  Suzanne Collins    4.34  Young Adult  Could you survive on your ...   \n",
       "1     J.K. Rowling    4.50  Young Adult  Harry Potter is about to s...   \n",
       "\n",
       "                        features  \n",
       "0  The Hunger Games Suzanne C...  \n",
       "1  Harry Potter and the Order...  "
      ]
     },
     "execution_count": 64,
     "metadata": {},
     "output_type": "execute_result"
    }
   ],
   "source": [
    "df = books_df.copy()\n",
    "\n",
    "df['features'] = df['title'] + ' ' + df['author'] + ' ' + df['genre'] + ' ' + df['description'] \n",
    "\n",
    "df.head(2)"
   ]
  },
  {
   "cell_type": "markdown",
   "metadata": {},
   "source": [
    "Tokenize and vectorize the text in the DataFrame's \"features\" column."
   ]
  },
  {
   "cell_type": "code",
   "execution_count": 65,
   "metadata": {},
   "outputs": [
    {
     "data": {
      "text/plain": [
       "(100, 201)"
      ]
     },
     "execution_count": 65,
     "metadata": {},
     "output_type": "execute_result"
    }
   ],
   "source": [
    "from sklearn.feature_extraction.text import CountVectorizer\n",
    "\n",
    "vectorizer = CountVectorizer(stop_words='english', min_df=5)\n",
    "word_matrix = vectorizer.fit_transform(df['features'])\n",
    "word_matrix.shape"
   ]
  },
  {
   "cell_type": "markdown",
   "metadata": {},
   "source": [
    "Compute cosine similarities for all the vector pairs."
   ]
  },
  {
   "cell_type": "code",
   "execution_count": 66,
   "metadata": {},
   "outputs": [],
   "source": [
    "from sklearn.metrics.pairwise import cosine_similarity\n",
    "\n",
    "sim = cosine_similarity(word_matrix)"
   ]
  },
  {
   "cell_type": "code",
   "execution_count": 68,
   "metadata": {},
   "outputs": [
    {
     "data": {
      "text/plain": [
       "array([[1.        , 0.2608746 , 0.04082483, ..., 0.13483997, 0.0372678 ,\n",
       "        0.        ],\n",
       "       [0.2608746 , 1.        , 0.06085806, ..., 0.15075567, 0.        ,\n",
       "        0.06804138],\n",
       "       [0.04082483, 0.06085806, 1.        , ..., 0.05504819, 0.18257419,\n",
       "        0.0745356 ],\n",
       "       ...,\n",
       "       [0.13483997, 0.15075567, 0.05504819, ..., 1.        , 0.15075567,\n",
       "        0.        ],\n",
       "       [0.0372678 , 0.        , 0.18257419, ..., 0.15075567, 1.        ,\n",
       "        0.13608276],\n",
       "       [0.        , 0.06804138, 0.0745356 , ..., 0.        , 0.13608276,\n",
       "        1.        ]])"
      ]
     },
     "execution_count": 68,
     "metadata": {},
     "output_type": "execute_result"
    }
   ],
   "source": [
    "sim"
   ]
  },
  {
   "cell_type": "markdown",
   "metadata": {},
   "source": [
    "## Generate book  recommendations\n",
    "\n",
    "Define a function that takes a book title as input and returns a list of similar books, and then use that function to make some recommendations."
   ]
  },
  {
   "cell_type": "code",
   "execution_count": 80,
   "metadata": {},
   "outputs": [
    {
     "data": {
      "text/html": [
       "<div>\n",
       "<style scoped>\n",
       "    .dataframe tbody tr th:only-of-type {\n",
       "        vertical-align: middle;\n",
       "    }\n",
       "\n",
       "    .dataframe tbody tr th {\n",
       "        vertical-align: top;\n",
       "    }\n",
       "\n",
       "    .dataframe thead th {\n",
       "        text-align: right;\n",
       "    }\n",
       "</style>\n",
       "<table border=\"1\" class=\"dataframe\">\n",
       "  <thead>\n",
       "    <tr style=\"text-align: right;\">\n",
       "      <th></th>\n",
       "      <th>url</th>\n",
       "      <th>title</th>\n",
       "      <th>author</th>\n",
       "      <th>rating</th>\n",
       "      <th>genre</th>\n",
       "      <th>description</th>\n",
       "      <th>features</th>\n",
       "    </tr>\n",
       "  </thead>\n",
       "  <tbody>\n",
       "    <tr>\n",
       "      <th>0</th>\n",
       "      <td>https://www.goodreads.com/...</td>\n",
       "      <td>The Hunger Games</td>\n",
       "      <td>Suzanne Collins</td>\n",
       "      <td>4.34</td>\n",
       "      <td>Young Adult</td>\n",
       "      <td>Could you survive on your ...</td>\n",
       "      <td>The Hunger Games Suzanne C...</td>\n",
       "    </tr>\n",
       "    <tr>\n",
       "      <th>1</th>\n",
       "      <td>https://www.goodreads.com/...</td>\n",
       "      <td>Harry Potter and the Order...</td>\n",
       "      <td>J.K. Rowling</td>\n",
       "      <td>4.50</td>\n",
       "      <td>Young Adult</td>\n",
       "      <td>Harry Potter is about to s...</td>\n",
       "      <td>Harry Potter and the Order...</td>\n",
       "    </tr>\n",
       "    <tr>\n",
       "      <th>2</th>\n",
       "      <td>https://www.goodreads.com/...</td>\n",
       "      <td>Pride and Prejudice</td>\n",
       "      <td>Jane Austen</td>\n",
       "      <td>4.29</td>\n",
       "      <td>Fiction</td>\n",
       "      <td>Since its immediate succes...</td>\n",
       "      <td>Pride and Prejudice Jane A...</td>\n",
       "    </tr>\n",
       "    <tr>\n",
       "      <th>3</th>\n",
       "      <td>https://www.goodreads.com/...</td>\n",
       "      <td>To Kill a Mockingbird</td>\n",
       "      <td>Harper Lee</td>\n",
       "      <td>4.26</td>\n",
       "      <td>Classics</td>\n",
       "      <td>The unforgettable novel of...</td>\n",
       "      <td>To Kill a Mockingbird Harp...</td>\n",
       "    </tr>\n",
       "    <tr>\n",
       "      <th>4</th>\n",
       "      <td>https://www.goodreads.com/...</td>\n",
       "      <td>The Book Thief</td>\n",
       "      <td>Markus Zusak</td>\n",
       "      <td>4.39</td>\n",
       "      <td>Historical Fiction</td>\n",
       "      <td>Librarian's note: An alter...</td>\n",
       "      <td>The Book Thief Markus Zusa...</td>\n",
       "    </tr>\n",
       "  </tbody>\n",
       "</table>\n",
       "</div>"
      ],
      "text/plain": [
       "                             url                          title  \\\n",
       "0  https://www.goodreads.com/...               The Hunger Games   \n",
       "1  https://www.goodreads.com/...  Harry Potter and the Order...   \n",
       "2  https://www.goodreads.com/...            Pride and Prejudice   \n",
       "3  https://www.goodreads.com/...          To Kill a Mockingbird   \n",
       "4  https://www.goodreads.com/...                 The Book Thief   \n",
       "\n",
       "            author  rating               genre                    description  \\\n",
       "0  Suzanne Collins    4.34         Young Adult  Could you survive on your ...   \n",
       "1     J.K. Rowling    4.50         Young Adult  Harry Potter is about to s...   \n",
       "2      Jane Austen    4.29             Fiction  Since its immediate succes...   \n",
       "3       Harper Lee    4.26            Classics  The unforgettable novel of...   \n",
       "4     Markus Zusak    4.39  Historical Fiction  Librarian's note: An alter...   \n",
       "\n",
       "                        features  \n",
       "0  The Hunger Games Suzanne C...  \n",
       "1  Harry Potter and the Order...  \n",
       "2  Pride and Prejudice Jane A...  \n",
       "3  To Kill a Mockingbird Harp...  \n",
       "4  The Book Thief Markus Zusa...  "
      ]
     },
     "execution_count": 80,
     "metadata": {},
     "output_type": "execute_result"
    }
   ],
   "source": [
    "df.head()"
   ]
  },
  {
   "cell_type": "code",
   "execution_count": 92,
   "metadata": {},
   "outputs": [],
   "source": [
    "def get_recommendations(title, df, sim, count=10):\n",
    "    # Get the row index of the specified title in the DataFrame\n",
    "    index = df.index[df['title'].str.lower() == title.lower()]\n",
    "    \n",
    "    # Return an empty list if there is no entry for the specified title\n",
    "    if (len(index) == 0):\n",
    "        return []\n",
    "\n",
    "    # Get the corresponding row in the similarity matrix\n",
    "    similarities = list(enumerate(sim[index[0]]))\n",
    "    \n",
    "    # Sort the similarity scores in that row in descending order\n",
    "    recommendations = sorted(similarities, key=lambda x: x[1], reverse=True)\n",
    "    \n",
    "    # Get the top n recommendations, ignoring the first entry in the list since\n",
    "    # it corresponds to the title itself (and thus has a similarity of 1.0)\n",
    "    top_recs = recommendations[1:count + 1]\n",
    "\n",
    "    # Generate a list of titles from the indexes in top_recs\n",
    "    titles = []\n",
    "    descriptions = []\n",
    "    urls = []\n",
    "\n",
    "    for i in range(len(top_recs)):\n",
    "        title = df.iloc[top_recs[i][0]]['title']\n",
    "        description = df.iloc[top_recs[i][0]]['description']\n",
    "        url = df.iloc[top_recs[i][0]]['url']\n",
    "\n",
    "        titles.append(title)\n",
    "        descriptions.append(description)\n",
    "        urls.append(url)\n",
    "    \n",
    "    # Create DataFrame\n",
    "    recommendations = pd.DataFrame({\n",
    "        'Title': titles,\n",
    "        'Description': descriptions,\n",
    "        'Url': urls\n",
    "    })\n",
    "\n",
    "    return recommendations"
   ]
  },
  {
   "cell_type": "markdown",
   "metadata": {},
   "source": [
    "Use the `get_recommendations` function to identify 10 books that are similar to the chosen title"
   ]
  },
  {
   "cell_type": "code",
   "execution_count": 91,
   "metadata": {},
   "outputs": [
    {
     "data": {
      "text/html": [
       "<div>\n",
       "<style scoped>\n",
       "    .dataframe tbody tr th:only-of-type {\n",
       "        vertical-align: middle;\n",
       "    }\n",
       "\n",
       "    .dataframe tbody tr th {\n",
       "        vertical-align: top;\n",
       "    }\n",
       "\n",
       "    .dataframe thead th {\n",
       "        text-align: right;\n",
       "    }\n",
       "</style>\n",
       "<table border=\"1\" class=\"dataframe\">\n",
       "  <thead>\n",
       "    <tr style=\"text-align: right;\">\n",
       "      <th></th>\n",
       "      <th>Title</th>\n",
       "      <th>description</th>\n",
       "      <th>url</th>\n",
       "    </tr>\n",
       "  </thead>\n",
       "  <tbody>\n",
       "    <tr>\n",
       "      <th>0</th>\n",
       "      <td>Divergent</td>\n",
       "      <td>In Beatrice Prior's dystop...</td>\n",
       "      <td>https://www.goodreads.com/...</td>\n",
       "    </tr>\n",
       "    <tr>\n",
       "      <th>1</th>\n",
       "      <td>My Sister’s Keeper</td>\n",
       "      <td>New York Times best-sellin...</td>\n",
       "      <td>https://www.goodreads.com/...</td>\n",
       "    </tr>\n",
       "    <tr>\n",
       "      <th>2</th>\n",
       "      <td>Romeo and Juliet</td>\n",
       "      <td>In Romeo and Juliet, Shake...</td>\n",
       "      <td>https://www.goodreads.com/...</td>\n",
       "    </tr>\n",
       "    <tr>\n",
       "      <th>3</th>\n",
       "      <td>Harry Potter and the Order...</td>\n",
       "      <td>Harry Potter is about to s...</td>\n",
       "      <td>https://www.goodreads.com/...</td>\n",
       "    </tr>\n",
       "    <tr>\n",
       "      <th>4</th>\n",
       "      <td>Anne of Green Gables</td>\n",
       "      <td>This heartwarming story ha...</td>\n",
       "      <td>https://www.goodreads.com/...</td>\n",
       "    </tr>\n",
       "    <tr>\n",
       "      <th>5</th>\n",
       "      <td>A Thousand Splendid Suns</td>\n",
       "      <td>Mariam is only fifteen whe...</td>\n",
       "      <td>https://www.goodreads.com/...</td>\n",
       "    </tr>\n",
       "    <tr>\n",
       "      <th>6</th>\n",
       "      <td>The Giver</td>\n",
       "      <td>At the age of twelve, Jona...</td>\n",
       "      <td>https://www.goodreads.com/...</td>\n",
       "    </tr>\n",
       "    <tr>\n",
       "      <th>7</th>\n",
       "      <td>Rebecca</td>\n",
       "      <td>\"Last night I dreamt I wen...</td>\n",
       "      <td>https://www.goodreads.com/...</td>\n",
       "    </tr>\n",
       "    <tr>\n",
       "      <th>8</th>\n",
       "      <td>Outlander</td>\n",
       "      <td>The year is 1945. Claire R...</td>\n",
       "      <td>https://www.goodreads.com/...</td>\n",
       "    </tr>\n",
       "    <tr>\n",
       "      <th>9</th>\n",
       "      <td>Water for Elephants</td>\n",
       "      <td>When Jacob Jankowski, rece...</td>\n",
       "      <td>https://www.goodreads.com/...</td>\n",
       "    </tr>\n",
       "  </tbody>\n",
       "</table>\n",
       "</div>"
      ],
      "text/plain": [
       "                           Title                    description  \\\n",
       "0                      Divergent  In Beatrice Prior's dystop...   \n",
       "1             My Sister’s Keeper  New York Times best-sellin...   \n",
       "2               Romeo and Juliet  In Romeo and Juliet, Shake...   \n",
       "3  Harry Potter and the Order...  Harry Potter is about to s...   \n",
       "4           Anne of Green Gables  This heartwarming story ha...   \n",
       "5       A Thousand Splendid Suns  Mariam is only fifteen whe...   \n",
       "6                      The Giver  At the age of twelve, Jona...   \n",
       "7                        Rebecca  \"Last night I dreamt I wen...   \n",
       "8                      Outlander  The year is 1945. Claire R...   \n",
       "9            Water for Elephants  When Jacob Jankowski, rece...   \n",
       "\n",
       "                             url  \n",
       "0  https://www.goodreads.com/...  \n",
       "1  https://www.goodreads.com/...  \n",
       "2  https://www.goodreads.com/...  \n",
       "3  https://www.goodreads.com/...  \n",
       "4  https://www.goodreads.com/...  \n",
       "5  https://www.goodreads.com/...  \n",
       "6  https://www.goodreads.com/...  \n",
       "7  https://www.goodreads.com/...  \n",
       "8  https://www.goodreads.com/...  \n",
       "9  https://www.goodreads.com/...  "
      ]
     },
     "execution_count": 91,
     "metadata": {},
     "output_type": "execute_result"
    }
   ],
   "source": [
    "get_recommendations('The Hunger Games', df, sim)"
   ]
  },
  {
   "cell_type": "markdown",
   "metadata": {},
   "source": [
    "# Creating a Dashboard in Plotly Dash "
   ]
  },
  {
   "cell_type": "code",
   "execution_count": 95,
   "metadata": {},
   "outputs": [
    {
     "data": {
      "text/html": [
       "\n",
       "        <iframe\n",
       "            width=\"100%\"\n",
       "            height=\"650\"\n",
       "            src=\"http://127.0.0.1:80/\"\n",
       "            frameborder=\"0\"\n",
       "            allowfullscreen\n",
       "            \n",
       "        ></iframe>\n",
       "        "
      ],
      "text/plain": [
       "<IPython.lib.display.IFrame at 0x1b228bd26f0>"
      ]
     },
     "metadata": {},
     "output_type": "display_data"
    }
   ],
   "source": [
    "from dash import Dash, html, dcc, Input, Output\n",
    "import plotly.express as px\n",
    "import dash_bootstrap_components as dbc\n",
    "import pandas as pd\n",
    "\n",
    "\n",
    "total_genre = books_df['genre'].nunique()\n",
    "total_books = books_df.shape[0]\n",
    "most_rated = books_df.sort_values(by='rating', ascending=False).head(1)['title'].values[0]\n",
    "# KPI data\n",
    "kpi_data = [\n",
    "    {'label': 'Total Genre', 'value': total_genre},\n",
    "    {'label': 'Total Books', 'value': total_books},\n",
    "    {'label': 'Most Rated Book', 'value': most_rated}\n",
    "]\n",
    "\n",
    "# Initialize the Dash app\n",
    "app = Dash(__name__, external_stylesheets=[dbc.themes.BOOTSTRAP, '/assets/styles.css'], suppress_callback_exceptions=True)\n",
    "\n",
    "# Sidebar\n",
    "sidebar = html.Div(\n",
    "    [\n",
    "        html.H2(\"Menu\", className=\"menu-style\"),\n",
    "        html.Hr(),\n",
    "        dbc.Nav(\n",
    "            [\n",
    "                dbc.NavLink(\"Analysis\", href=\"/\", active=\"exact\"),\n",
    "                dbc.NavLink(\"Recommendation\", href=\"/recommendation\", active=\"exact\"),\n",
    "            ],\n",
    "            vertical=True,\n",
    "            pills=True\n",
    "        ),\n",
    "        html.Hr(),\n",
    "    ],\n",
    "    className=\"sidebar\"\n",
    ")\n",
    "\n",
    "# Header\n",
    "header = html.Div(\n",
    "    [\n",
    "        html.H2(\"Books Data Analysis and Recommendation System\"),\n",
    "        html.Hr(style={'width': '60%', 'border-color': '#ccc'}),\n",
    "    ], className=\"header-style\"\n",
    ")\n",
    "\n",
    "# Content\n",
    "content = html.Div(id=\"page-content\", children=[], className=\"content\")\n",
    "\n",
    "# Footer\n",
    "footer = html.Div(\n",
    "    [\n",
    "        html.P(\"Jose Mario Costa  |  www.jmcloudpro.com  |  https://github.com/jmdtanalyst/\", className=\"footer-style\")\n",
    "    ]\n",
    ")\n",
    "\n",
    "# Layout\n",
    "app.layout = html.Div([\n",
    "    dcc.Location(id=\"url\"),\n",
    "    header,\n",
    "    sidebar,\n",
    "    content,\n",
    "    footer\n",
    "])\n",
    "\n",
    "@app.callback(\n",
    "    Output(\"page-content\", \"children\"),\n",
    "    [Input(\"url\", \"pathname\")]\n",
    ")\n",
    "def render_page_content(pathname):\n",
    "    if pathname == \"/\":\n",
    "        return [\n",
    "            html.H4('Book Analysis', className=\"title-style\"),\n",
    "            \n",
    "            html.Div(className='kpi-container', children=[\n",
    "                html.Div(children=[\n",
    "                    html.H3(kpi['label'], className='kpi-label'),\n",
    "                    html.Span(className='kpi-value', children=kpi['value']),\n",
    "                ], className='kpi-box')\n",
    "                for kpi in kpi_data\n",
    "            ]),\n",
    "            \n",
    "            # Dropdown for selecting genre\n",
    "            html.Div([\n",
    "                html.Label(\"Select Genre:\"),\n",
    "                dcc.Dropdown(\n",
    "                    id='genre-dropdown',\n",
    "                    options=[{'label': genre, 'value': genre} for genre in books_df['genre'].unique()],\n",
    "                    value=books_df['genre'].unique()[0]\n",
    "                )\n",
    "            ]),\n",
    "    \n",
    "            # Bar chart for average rating by genre\n",
    "            dcc.Graph(id=\"rating-bar-chart\"),\n",
    "            \n",
    "            # New chart for rating distribution by genre\n",
    "            dcc.Graph(id=\"rating-distribution-chart\"),\n",
    "        ]\n",
    "    elif pathname == \"/recommendation\":\n",
    "        return [\n",
    "            html.H4('Book Recommendation', className=\"title-style\"),\n",
    "            # Dropdown for selecting book\n",
    "            html.Div([\n",
    "                html.Label(\"Select the Book:\"),\n",
    "                dcc.Dropdown(\n",
    "                    id='book-dropdown',\n",
    "                    options=[{'label': book, 'value': book} for book in books_df['title'].unique()],\n",
    "                    value=books_df['title'].unique()[0]\n",
    "                )\n",
    "            ]),\n",
    "            # Table for book details\n",
    "            html.Div(id='book-details-table')\n",
    "        ]\n",
    "    \n",
    "    return dbc.Jumbotron(\n",
    "        [\n",
    "            html.H1(\"404: Not found\", className=\"text-danger\"),\n",
    "            html.Hr(),\n",
    "            html.P(f\"The pathname {pathname} was not recognised...\"),\n",
    "        ]\n",
    "    )\n",
    "\n",
    "# Callback to update the bar chart based on selected genre\n",
    "@app.callback(\n",
    "    Output('rating-bar-chart', 'figure'),\n",
    "    Input('genre-dropdown', 'value')\n",
    ")\n",
    "def update_bar_chart(selected_genre):\n",
    "    filtered_df = books_df[books_df['genre'] == selected_genre]\n",
    "    avg_rating_by_genre = filtered_df.groupby('title')['rating'].mean().reset_index()\n",
    "    fig = px.bar(avg_rating_by_genre, x='title', y='rating', title=f'Average Rating for {selected_genre} Books')\n",
    "    return fig\n",
    "\n",
    "# New callback to update the rating distribution chart based on selected genre\n",
    "@app.callback(\n",
    "    Output('rating-distribution-chart', 'figure'),\n",
    "    Input('genre-dropdown', 'value')\n",
    ")\n",
    "def update_distribution_chart(selected_genre):\n",
    "    filtered_df = books_df[books_df['genre'] == selected_genre]\n",
    "    fig = px.histogram(filtered_df, x='rating', nbins=10, title=f'Rating Distribution for {selected_genre} Books')\n",
    "    return fig\n",
    "\n",
    "# New callback to update the book details table based on selected book\n",
    "@app.callback(\n",
    "    Output('book-details-table', 'children'),\n",
    "    Input('book-dropdown', 'value')\n",
    ")\n",
    "def update_book_details(selected_book):\n",
    "    \n",
    "    book_details = get_recommendations(selected_book, df, sim)\n",
    "    \n",
    "    return dbc.Table.from_dataframe(book_details[['Title', 'Description', 'Url']], striped=True, bordered=True, hover=True)\n",
    " \n",
    "if __name__ == '__main__':\n",
    "    app.run_server(debug=True, port=80)\n"
   ]
  },
  {
   "cell_type": "markdown",
   "metadata": {},
   "source": [
    "The system does a pretty credible job of picking similar books."
   ]
  },
  {
   "cell_type": "markdown",
   "metadata": {},
   "source": [
    "## References\n",
    "* Applied Machine Learning and AI for Engineers, Jeff Prosise, O'Reilly Media, Inc., November 2022, 425 pages."
   ]
  }
 ],
 "metadata": {
  "kernelspec": {
   "display_name": "Python 3 (ipykernel)",
   "language": "python",
   "name": "python3"
  },
  "language_info": {
   "codemirror_mode": {
    "name": "ipython",
    "version": 3
   },
   "file_extension": ".py",
   "mimetype": "text/x-python",
   "name": "python",
   "nbconvert_exporter": "python",
   "pygments_lexer": "ipython3",
   "version": "3.12.3"
  }
 },
 "nbformat": 4,
 "nbformat_minor": 4
}
